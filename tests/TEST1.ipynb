{
 "cells": [
  {
   "cell_type": "code",
   "execution_count": 1,
   "metadata": {},
   "outputs": [],
   "source": [
    "%load_ext autoreload\n",
    "%autoreload 2\n",
    "import numpy as np\n",
    "import env\n",
    "from MACROS import *"
   ]
  },
  {
   "cell_type": "code",
   "execution_count": 214,
   "metadata": {},
   "outputs": [
    {
     "name": "stdout",
     "output_type": "stream",
     "text": [
      "12\n"
     ]
    }
   ],
   "source": [
    "SUITS = ['S', 'H', 'C', 'D']\n",
    "CARDS = ['2', '3', '4', '5', '6', '7', '8', '9', 'T', 'J', 'Q', 'K', 'A']\n",
    "CARD_IDX = np.arange(len(CARDS)*len(SUITS)).reshape(len(CARDS), len(SUITS))\n",
    "\n",
    "print(CARD_IDX[CARDS.index('5'),SUITS.index('S')])"
   ]
  },
  {
   "cell_type": "markdown",
   "metadata": {},
   "source": [
    "Get Card Data from game_matrix"
   ]
  },
  {
   "cell_type": "code",
   "execution_count": 215,
   "metadata": {},
   "outputs": [
    {
     "name": "stdout",
     "output_type": "stream",
     "text": [
      "Card: 9 S\n",
      "Card Index : 28\n",
      "\n",
      "--------------------------\n",
      "\n",
      "CARD_FOR_PLAYING : 0.0\n",
      "CARD_IN_HAND_AGENT : 0.0\n",
      "CARD_IN_HAND_OPPNT_1 : 0.0\n",
      "CARD_IN_HAND_TEAM : 0.0\n",
      "CARD_IN_HAND_OPPNT_2 : 0.0\n",
      "CARD_AVAILABLE : 0.0\n",
      "CARD_CURR_TRICK_AGENT : 0.0\n",
      "CARD_CURR_TRICK_OPPNT_1 : 0.0\n",
      "CARD_CURR_TRICK_TEAM : 0.0\n",
      "CARD_CURR_TRICK_OPPNT_2 : 0.0\n",
      "CARD_PREV_TRICK_AGENT : 0.0\n",
      "CARD_PREV_TRICK_OPPNT_1 : 0.0\n",
      "CARD_PREV_TRICK_TEAM : 0.0\n",
      "CARD_PREV_TRICK_OPPNT_2 : 0.0\n",
      "CARD_TRUMP : 0.0\n"
     ]
    }
   ],
   "source": [
    "# PRINT THE game_matrix\n",
    "mendikot = env.Mendikot()\n",
    "\n",
    "macro_list = [\n",
    "    \"CARD_FOR_PLAYING\",\n",
    "    \"CARD_IN_HAND_AGENT\",\n",
    "    \"CARD_IN_HAND_OPPNT_1\",\n",
    "    \"CARD_IN_HAND_TEAM\",\n",
    "    \"CARD_IN_HAND_OPPNT_2\",\n",
    "    \"CARD_AVAILABLE\",\n",
    "    \"CARD_CURR_TRICK_AGENT\",\n",
    "    \"CARD_CURR_TRICK_OPPNT_1\",\n",
    "    \"CARD_CURR_TRICK_TEAM\",\n",
    "    \"CARD_CURR_TRICK_OPPNT_2\",\n",
    "    \"CARD_PREV_TRICK_AGENT\",\n",
    "    \"CARD_PREV_TRICK_OPPNT_1\",\n",
    "    \"CARD_PREV_TRICK_TEAM\",\n",
    "    \"CARD_PREV_TRICK_OPPNT_2\",\n",
    "    \"CARD_TRUMP\"\n",
    "]\n",
    "\n",
    "card = '9'\n",
    "suit = 'S'\n",
    "\n",
    "card_index = CARD_IDX[CARDS.index(card), SUITS.index(suit)]\n",
    "print(f\"Card: {card} {suit}\")\n",
    "print(f\"Card Index : {card_index}\")\n",
    "\n",
    "print(\"\\n--------------------------\\n\")\n",
    "for item in macro_list:\n",
    "    print(f\"{item} : {mendikot.game_matrix[card_index,macro_list.index(item)]}\")\n"
   ]
  },
  {
   "cell_type": "code",
   "execution_count": 216,
   "metadata": {},
   "outputs": [
    {
     "name": "stdout",
     "output_type": "stream",
     "text": [
      "Starting Game\n",
      "AGENT\tT♥ K♠ K♣ A♠ \n",
      "OPPNT1\tT♣ T♦ Q♠ Q♦ \n",
      "TEAM\tT♠ Q♥ K♦ A♣ \n",
      "OPPNT2\tQ♣ K♥ A♥ A♦ \n",
      "TRUMP\t♥\n",
      "K♣\n",
      "T♣\n",
      "A♣\n",
      "Q♣\n",
      "False\n"
     ]
    },
    {
     "data": {
      "text/plain": [
       "(array([[0., 0., 0., 0., 0., 0., 0., 0.],\n",
       "        [0., 0., 0., 0., 0., 0., 0., 0.],\n",
       "        [0., 1., 0., 0., 0., 0., 0., 0.],\n",
       "        [0., 0., 0., 0., 0., 0., 0., 0.],\n",
       "        [0., 0., 0., 0., 0., 0., 0., 0.],\n",
       "        [0., 0., 0., 0., 0., 0., 0., 0.],\n",
       "        [0., 0., 0., 1., 0., 0., 0., 0.],\n",
       "        [0., 0., 0., 0., 0., 0., 0., 0.],\n",
       "        [0., 0., 0., 0., 0., 0., 0., 0.],\n",
       "        [0., 0., 0., 0., 0., 0., 0., 0.],\n",
       "        [1., 0., 0., 0., 0., 0., 0., 0.],\n",
       "        [0., 0., 0., 0., 0., 0., 0., 0.],\n",
       "        [0., 0., 0., 0., 0., 0., 0., 0.],\n",
       "        [0., 0., 0., 0., 0., 0., 0., 0.],\n",
       "        [0., 0., 1., 0., 0., 0., 0., 0.],\n",
       "        [0., 0., 0., 0., 0., 0., 0., 0.]]),\n",
       " 5,\n",
       " False,\n",
       " (2, 'A', 'C'))"
      ]
     },
     "execution_count": 216,
     "metadata": {},
     "output_type": "execute_result"
    }
   ],
   "source": [
    "# m = env.Mendikot(cards_per_player=4)\n",
    "# m.reset()\n",
    "\n",
    "print(\"Starting Game\")\n",
    "for p in range(AGENT, OPPONENT_2+1):\n",
    "    cards = m.get_available_cards(p)\n",
    "    render_str = m.get_render_str(cards_list=cards)\n",
    "    print(f\"{PLAYER_RENDER[p]:}\\t{render_str}\")\n",
    "print(f\"TRUMP\\t{SUITS_RENDER[m.trump_suit]}\")\n",
    "\n",
    "c = np.random.choice(m.get_available_cards(AGENT))\n",
    "print(m.get_render_str(c))\n",
    "m.step(c, AGENT)\n",
    "\n",
    "c = np.random.choice(m.get_available_cards(OPPONENT_1))\n",
    "print(m.get_render_str(c))\n",
    "m.step(c, OPPONENT_1)\n",
    "\n",
    "c = np.random.choice(m.get_available_cards(TEAMMATE))\n",
    "print(m.get_render_str(c))\n",
    "m.step(c, TEAMMATE)\n",
    "\n",
    "c = np.random.choice(m.get_available_cards(OPPONENT_2))\n",
    "print(m.get_render_str(c))\n",
    "m.step(c, OPPONENT_2)\n",
    "\n",
    "# winner = m.evaluate_trick()\n",
    "# print(f\"Winner is {PLAYER_RENDER[winner]}\")\n",
    "# print(m.is_ten_in_trick())"
   ]
  },
  {
   "cell_type": "code",
<<<<<<< HEAD
   "execution_count": 308,
=======
   "execution_count": 22,
>>>>>>> anway
   "metadata": {},
   "outputs": [
    {
     "name": "stdout",
     "output_type": "stream",
     "text": [
      "GAMING CONSOLE BY NEERAJ AND ANWAY!\n",
      "------------------------\n",
      "\n",
      "MENDIKOT: WHERE REAL CHAMPIONS ARE MADE!\n",
      "Starting Game\n",
<<<<<<< HEAD
      "AGENT\tT♦ J♠ J♦ Q♦ A♥ \n",
      "OPPNT1\tJ♣ Q♥ K♠ K♥ A♦ \n",
      "TEAM\tT♠ T♣ J♥ Q♣ A♠ \n",
      "OPPNT2\tT♥ Q♠ K♣ K♦ A♣ \n",
      "TRUMP\t♦\n",
=======
      "AGENT\tT♣ T♦ K♥ A♥ A♣ \n",
      "OPPNT1\tT♠ T♥ Q♣ A♠ A♦ \n",
      "TEAM\tJ♣ J♦ Q♥ K♠ K♦ \n",
      "OPPNT2\tJ♠ J♥ Q♠ Q♦ K♣ \n",
      "TRUMP\t♣\n",
>>>>>>> anway
      "\n",
      " ----------------------- \n",
      "\n",
      "New Trick Starts\n",
<<<<<<< HEAD
      "AGENT\n",
      "AGENT\tT♦ J♠ J♦ Q♦ A♥ \n",
=======
      "TEAM\n",
      "Cards on Table : J♣ \n",
      "OPPNT2\n",
      "Cards on Table : J♣ K♣ \n",
      "AGENT\n",
      "AGENT\tT♣ A♣ \n",
      "Cards on Table : T♣ J♣ K♣ \n",
      "OPPNT1\n",
      "Cards on Table : \n",
      "Reward: -5 Winner Info: (3, 'K', 'C') Terminated: False\n",
      "New Trick Starts\n",
      "OPPNT2\n",
      "Cards on Table : J♥ \n",
      "AGENT\n",
      "AGENT\tK♥ A♥ \n",
      "Cards on Table : J♥ K♥ \n",
      "OPPNT1\n",
      "Cards on Table : T♥ J♥ K♥ \n",
      "TEAM\n",
      "Cards on Table : \n",
      "Reward: 5 Winner Info: (0, 'K', 'H') Terminated: False\n",
      "New Trick Starts\n",
      "AGENT\n",
      "AGENT\tT♦ A♥ A♣ \n",
>>>>>>> anway
      "Cards on Table : T♦ \n",
      "OPPNT1\n",
      "Cards on Table : T♦ A♦ \n",
      "TEAM\n",
<<<<<<< HEAD
      "Cards on Table : T♦ A♠ A♦ \n",
=======
      "Cards on Table : T♦ J♦ A♦ \n",
>>>>>>> anway
      "OPPNT2\n",
      "Cards on Table : \n",
      "Reward: -5 Winner Info: (1, 'A', 'D') Terminated: False\n",
      "New Trick Starts\n",
      "OPPNT1\n",
<<<<<<< HEAD
      "Cards on Table : K♠ \n",
=======
      "Cards on Table : T♠ \n",
>>>>>>> anway
      "TEAM\n",
      "Cards on Table : T♠ K♠ \n",
      "OPPNT2\n",
      "Cards on Table : T♠ Q♠ K♠ \n",
      "AGENT\n",
<<<<<<< HEAD
      "AGENT\tJ♠ \n",
      "Cards on Table : \n",
      "Reward: -5 Winner Info: (1, 'K', 'S') Terminated: False\n",
      "New Trick Starts\n",
      "OPPNT1\n",
      "Cards on Table : J♣ \n",
      "TEAM\n",
      "Cards on Table : J♣ Q♣ \n",
      "OPPNT2\n",
      "Cards on Table : J♣ Q♣ A♣ \n",
      "AGENT\n",
      "AGENT\tJ♦ Q♦ A♥ \n",
      "Cards on Table : \n",
      "Reward: -1 Winner Info: (3, 'A', 'C') Terminated: False\n",
      "New Trick Starts\n",
      "OPPNT2\n",
      "Cards on Table : T♥ \n",
      "AGENT\n",
      "AGENT\tA♥ \n"
     ]
    },
    {
     "ename": "IndexError",
     "evalue": "index 1 is out of bounds for axis 0 with size 1",
     "output_type": "error",
     "traceback": [
      "\u001b[1;31m---------------------------------------------------------------------------\u001b[0m",
      "\u001b[1;31mIndexError\u001b[0m                                Traceback (most recent call last)",
      "Cell \u001b[1;32mIn [308], line 31\u001b[0m\n\u001b[0;32m     29\u001b[0m     \u001b[38;5;28mprint\u001b[39m(\u001b[38;5;124mf\u001b[39m\u001b[38;5;124m\"\u001b[39m\u001b[38;5;132;01m{\u001b[39;00mPLAYER_RENDER[player]\u001b[38;5;132;01m:\u001b[39;00m\u001b[38;5;132;01m}\u001b[39;00m\u001b[38;5;130;01m\\t\u001b[39;00m\u001b[38;5;132;01m{\u001b[39;00mrender_str\u001b[38;5;132;01m}\u001b[39;00m\u001b[38;5;124m\"\u001b[39m)\n\u001b[0;32m     30\u001b[0m     inp \u001b[38;5;241m=\u001b[39m \u001b[38;5;28mint\u001b[39m(\u001b[38;5;28minput\u001b[39m(\u001b[38;5;124m'\u001b[39m\u001b[38;5;124mEnter card choice\u001b[39m\u001b[38;5;124m'\u001b[39m))\n\u001b[1;32m---> 31\u001b[0m     choice \u001b[38;5;241m=\u001b[39m \u001b[43mcards\u001b[49m\u001b[43m[\u001b[49m\u001b[43minp\u001b[49m\u001b[43m]\u001b[49m\n\u001b[0;32m     32\u001b[0m \u001b[38;5;28;01melse\u001b[39;00m:\n\u001b[0;32m     33\u001b[0m     choice \u001b[38;5;241m=\u001b[39m np\u001b[38;5;241m.\u001b[39mrandom\u001b[38;5;241m.\u001b[39mchoice(m\u001b[38;5;241m.\u001b[39mget_available_cards(player))\n",
      "\u001b[1;31mIndexError\u001b[0m: index 1 is out of bounds for axis 0 with size 1"
=======
      "AGENT\tA♥ A♣ \n",
      "Cards on Table : \n",
      "Reward: 5 Winner Info: (2, 'K', 'S') Terminated: False\n",
      "New Trick Starts\n",
      "TEAM\n",
      "Cards on Table : K♦ \n",
      "OPPNT2\n",
      "Cards on Table : J♠ K♦ \n",
      "AGENT\n",
      "AGENT\tA♣ \n",
      "Cards on Table : J♠ K♦ A♣ \n",
      "OPPNT1\n",
      "Cards on Table : \n",
      "Reward: 10 Winner Info: (2, 'K', 'D') Terminated: True\n",
      "Game Winner: AGENT\n"
>>>>>>> anway
     ]
    }
   ],
   "source": [
    "m = env.Mendikot(cards_per_player = 5)\n",
    "players = [AGENT, OPPONENT_1, TEAMMATE, OPPONENT_2]\n",
    "curr_player = np.random.choice(players)\n",
    "_ = m.reset()\n",
    "\n",
    "print(\"Starting Game\")\n",
    "for p in range(AGENT, OPPONENT_2+1):\n",
    "    cards = m.get_available_cards(p)\n",
    "    render_str = m.get_render_str(cards_list=cards)\n",
    "    print(f\"{PLAYER_RENDER[p]:}\\t{render_str}\")\n",
    "print(f\"TRUMP\\t{SUITS_RENDER[m.trump_suit]}\")\n",
    "print(\"\\n ----------------------- \\n\")\n",
    "\n",
    "terminated = False\n",
    "next_player = int(np.random.choice(3))\n",
    "\n",
    "while not terminated:\n",
    "    print(\"New Trick Starts\")\n",
    "    for iter in range(4):\n",
    "        player = (next_player+iter) % 4\n",
    "        print(PLAYER_RENDER[player])\n",
    "        \n",
    "        if player == AGENT:\n",
    "            cards = m.get_available_cards(player)\n",
    "            render_str = m.get_render_str(cards_list=cards)\n",
    "            print(f\"{PLAYER_RENDER[player]:}\\t{render_str}\")\n",
    "            inp = int(input('Enter card choice'))\n",
    "            choice = cards[inp]\n",
    "        else:\n",
    "            choice = np.random.choice(m.get_available_cards(player))\n",
    "\n",
    "        next_state, reward, terminated, winner_info = m.step(choice,player)\n",
    "\n",
    "        cards_in_trick = m.get_cards_in_trick()\n",
    "        render_str = m.get_render_str(cards_list=cards_in_trick)\n",
    "        \n",
    "        print(f\"Cards on Table : {render_str}\")\n",
    "\n",
    "    print(f\"Reward: {reward} Winner Info: {winner_info}\")\n",
    "    next_player = int(winner_info[0])\n",
    "\n",
    "print(f\"Game Winner: {PLAYER_RENDER[m.get_game_winner()]}\")"
   ]
  },
  {
   "cell_type": "code",
   "execution_count": 28,
   "metadata": {},
   "outputs": [
    {
     "data": {
      "text/plain": [
       "0"
      ]
     },
     "execution_count": 28,
     "metadata": {},
     "output_type": "execute_result"
    }
   ],
   "source": [
    "np.random.choice(4)"
   ]
  },
  {
   "cell_type": "markdown",
   "metadata": {},
   "source": [
    "THIS FILE SHALL BE USED FOR TESTING"
   ]
  },
  {
   "cell_type": "markdown",
   "metadata": {},
   "source": []
  }
 ],
 "metadata": {
  "kernelspec": {
   "display_name": "Python 3",
   "language": "python",
   "name": "python3"
  },
  "language_info": {
   "codemirror_mode": {
    "name": "ipython",
    "version": 3
   },
   "file_extension": ".py",
   "mimetype": "text/x-python",
   "name": "python",
   "nbconvert_exporter": "python",
   "pygments_lexer": "ipython3",
   "version": "3.10.11"
  }
 },
 "nbformat": 4,
 "nbformat_minor": 2
}
