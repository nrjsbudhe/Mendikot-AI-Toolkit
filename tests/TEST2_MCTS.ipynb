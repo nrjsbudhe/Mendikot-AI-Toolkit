{
 "cells": [
  {
   "cell_type": "code",
   "execution_count": 158,
   "metadata": {},
   "outputs": [
    {
     "name": "stdout",
     "output_type": "stream",
     "text": [
      "The autoreload extension is already loaded. To reload it, use:\n",
      "  %reload_ext autoreload\n"
     ]
    }
   ],
   "source": [
    "%load_ext autoreload\n",
    "%autoreload 2\n",
    "import env\n",
    "from MACROS import *\n",
    "import copy\n",
    "import mcts"
   ]
  },
  {
   "cell_type": "code",
   "execution_count": 350,
   "metadata": {},
   "outputs": [],
   "source": [
    "e = env.Mendikot(cards_per_player=13)"
   ]
  },
  {
   "cell_type": "code",
   "execution_count": 359,
   "metadata": {},
   "outputs": [
    {
     "name": "stdout",
     "output_type": "stream",
     "text": [
      "AGENT CARDS:  2♣ 3♠ 3♦ 4♣ 5♥ 5♦ 7♥ 9♠ T♥ K♣ A♠ A♥ A♣ \n",
      "A♣\n",
      "AGENT\n"
     ]
    }
   ],
   "source": [
    "\n",
    "# # e.get_available_cards(OPPONENT_1)\n",
    "\n",
    "# s = e.reset()\n",
    "\n",
    "# print(\"AGENT CARDS: \", e.get_render_str(cards_list=e.get_available_cards(AGENT)))\n",
    "# m = mcts.MCTS(sim_env = copy.deepcopy(e), c = 0.1, n=500)\n",
    "# agent_action = m.run_search(s, AGENT)\n",
    "\n",
    "# print(e.get_render_str(card_idx=agent_action))\n",
    "# e.step(agent_action, AGENT)\n",
    "# e.step(np.random.choice(e.get_available_cards(OPPONENT_1)), OPPONENT_1)\n",
    "# e.step(np.random.choice(e.get_available_cards(TEAMMATE)), TEAMMATE)\n",
    "# _, _, _, winner_info = e.step(np.random.choice(e.get_available_cards(OPPONENT_2)), OPPONENT_2)\n",
    "\n",
    "\n",
    "# print(PLAYER_RENDER[winner_info[0]])\n"
   ]
  },
  {
   "cell_type": "code",
   "execution_count": 506,
   "metadata": {},
   "outputs": [
    {
     "name": "stdout",
     "output_type": "stream",
     "text": [
      "TRICK:  6♥ 7♥ T♥ \n",
      "AGENT CARDS:  3♥ \n",
      "3♥\n"
     ]
    }
   ],
   "source": [
    "\n",
    "# e.get_available_cards(OPPONENT_1)\n",
    "\n",
    "s = e.reset()\n",
    "\n",
    "e.step(np.random.choice(e.get_available_cards(OPPONENT_1)), OPPONENT_1)\n",
    "e.step(np.random.choice(e.get_available_cards(TEAMMATE)), TEAMMATE)\n",
    "s, _, _, _ = e.step(np.random.choice(e.get_available_cards(OPPONENT_2)), OPPONENT_2)\n",
    "\n",
    "print(\"TRICK: \", e.get_render_str(cards_list=e.get_cards_in_trick()))\n",
    "print(\"AGENT CARDS: \", e.get_render_str(cards_list=e.get_available_cards(AGENT)))\n",
    "\n",
    "m = mcts.MCTS(sim_env = copy.deepcopy(e), c = 1, n=200)\n",
    "agent_action = m.run_search(s, AGENT)\n",
    "print(e.get_render_str(card_idx=agent_action))\n",
    "# _, _, _, winner_info = e.step(agent_action, AGENT)\n",
    "\n",
    "# print(PLAYER_RENDER[winner_info[0]])"
   ]
  },
  {
   "cell_type": "code",
   "execution_count": 517,
   "metadata": {},
   "outputs": [
    {
     "name": "stderr",
     "output_type": "stream",
     "text": [
      "100%|██████████| 100/100 [06:37<00:00,  3.97s/it]"
     ]
    },
    {
     "name": "stdout",
     "output_type": "stream",
     "text": [
      "Percentage Win: 64.0 %\n"
     ]
    },
    {
     "name": "stderr",
     "output_type": "stream",
     "text": [
      "\n"
     ]
    }
   ],
   "source": [
    "import numpy as np\n",
    "import env\n",
    "from MACROS import *\n",
    "from tqdm import trange\n",
    "\n",
    "num_trials = 100\n",
    "\n",
    "m = env.Mendikot(cards_per_player = 13)\n",
    "\n",
    "agent_wins = 0\n",
    "agent_trick_wins = 0\n",
    "\n",
    "for _ in trange(num_trials):\n",
    "    next_state = m.reset()\n",
    "    terminated = False\n",
    "    next_player = int(np.random.choice(3))\n",
    "\n",
    "    while not terminated:\n",
    "        for iter in range(4):\n",
    "            player = (next_player+iter) % 4\n",
    "\n",
    "            if player == AGENT:\n",
    "                # print(\"TRICK: \", m.get_render_str(cards_list=m.get_cards_in_trick()))\n",
    "                m.get_available_cards(AGENT)\n",
    "                mc = mcts.MCTS(sim_env = copy.deepcopy(m), c = 0.1, n=200)\n",
    "                agent_action = mc.run_search(next_state, player)\n",
    "                \n",
    "            else:\n",
    "                choice = np.random.choice(m.get_available_cards(player))\n",
    "\n",
    "            # Play 1 card - 1 step in the environment\n",
    "            next_state, reward, terminated, winner_info = m.step(choice, player)\n",
    "\n",
    "        if winner_info[0] == AGENT:\n",
    "            agent_trick_wins += 1\n",
    "\n",
    "        next_player = int(winner_info[0])\n",
    "\n",
    "    if m.get_game_winner() == AGENT:\n",
    "        agent_wins = agent_wins + 1\n",
    "\n",
    "print(f\"Percentage Win: {agent_wins/num_trials*100.0} %\")"
   ]
  }
 ],
 "metadata": {
  "kernelspec": {
   "display_name": "Python 3",
   "language": "python",
   "name": "python3"
  },
  "language_info": {
   "codemirror_mode": {
    "name": "ipython",
    "version": 3
   },
   "file_extension": ".py",
   "mimetype": "text/x-python",
   "name": "python",
   "nbconvert_exporter": "python",
   "pygments_lexer": "ipython3",
   "version": "3.10.11"
  }
 },
 "nbformat": 4,
 "nbformat_minor": 2
}
